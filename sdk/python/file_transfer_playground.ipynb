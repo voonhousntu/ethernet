{
 "cells": [
  {
   "cell_type": "code",
   "execution_count": 1,
   "id": "crazy-croatia",
   "metadata": {},
   "outputs": [
    {
     "name": "stdout",
     "output_type": "stream",
     "text": [
      "Collecting pysftp\n",
      "  Downloading pysftp-0.2.9.tar.gz (25 kB)\n",
      "Collecting paramiko>=1.17\n",
      "  Downloading paramiko-2.7.2-py2.py3-none-any.whl (206 kB)\n",
      "\u001b[K     |████████████████████████████████| 206 kB 5.0 MB/s eta 0:00:01\n",
      "\u001b[?25hCollecting bcrypt>=3.1.3\n",
      "  Downloading bcrypt-3.2.0-cp36-abi3-macosx_10_9_x86_64.whl (31 kB)\n",
      "Collecting cryptography>=2.5\n",
      "  Downloading cryptography-3.4.6-cp36-abi3-macosx_10_10_x86_64.whl (2.0 MB)\n",
      "\u001b[K     |████████████████████████████████| 2.0 MB 12.6 MB/s eta 0:00:01\n",
      "\u001b[?25hCollecting pynacl>=1.0.1\n",
      "  Downloading PyNaCl-1.4.0-cp35-abi3-macosx_10_10_x86_64.whl (380 kB)\n",
      "\u001b[K     |████████████████████████████████| 380 kB 37.1 MB/s eta 0:00:01\n",
      "\u001b[?25hRequirement already satisfied: cffi>=1.1 in /Users/su/Desktop/venv/lib/python3.7/site-packages (from bcrypt>=3.1.3->paramiko>=1.17->pysftp) (1.14.5)\n",
      "Requirement already satisfied: six>=1.4.1 in /Users/su/Desktop/venv/lib/python3.7/site-packages (from bcrypt>=3.1.3->paramiko>=1.17->pysftp) (1.15.0)\n",
      "Requirement already satisfied: pycparser in /Users/su/Desktop/venv/lib/python3.7/site-packages (from cffi>=1.1->bcrypt>=3.1.3->paramiko>=1.17->pysftp) (2.20)\n",
      "Building wheels for collected packages: pysftp\n",
      "  Building wheel for pysftp (setup.py) ... \u001b[?25ldone\n",
      "\u001b[?25h  Created wheel for pysftp: filename=pysftp-0.2.9-py3-none-any.whl size=15481 sha256=a38a67abf91d4c7ef980f198af1ea576bac964446eb96168e3be6aab34650881\n",
      "  Stored in directory: /Users/su/Library/Caches/pip/wheels/02/ee/6d/30c335b17af87fd32d14ff0d0b9dea36f0478da5ece9199597\n",
      "Successfully built pysftp\n",
      "Installing collected packages: pynacl, cryptography, bcrypt, paramiko, pysftp\n",
      "Successfully installed bcrypt-3.2.0 cryptography-3.4.6 paramiko-2.7.2 pynacl-1.4.0 pysftp-0.2.9\n"
     ]
    }
   ],
   "source": [
    "!pip3 install pysftp"
   ]
  },
  {
   "cell_type": "code",
   "execution_count": 11,
   "id": "catholic-cleanup",
   "metadata": {},
   "outputs": [
    {
     "name": "stdout",
     "output_type": "stream",
     "text": [
      "/home/VMadmin\n",
      "/home/VMadmin\n"
     ]
    }
   ],
   "source": [
    "import pysftp\n",
    "\n",
    "with pysftp.Connection(\"172.21.148.207\", username=\"VMadmin\", password=\"8a7e5t4wvS!\") as sftp:\n",
    "    # temporarily chdir to public\n",
    "    with sftp.cd(\".\"):\n",
    "        # upload file to public/ on remote\n",
    "        print(sftp.getcwd())\n",
    "        print(sftp.pwd)\n"
   ]
  },
  {
   "cell_type": "code",
   "execution_count": 5,
   "id": "prescribed-individual",
   "metadata": {},
   "outputs": [
    {
     "name": "stdout",
     "output_type": "stream",
     "text": [
      "appnope==0.1.2\r\n",
      "argon2-cffi==20.1.0\r\n",
      "async-generator==1.10\r\n",
      "attrs==20.3.0\r\n",
      "backcall==0.2.0\r\n",
      "bcrypt==3.2.0\r\n",
      "bleach==3.3.0\r\n",
      "cffi==1.14.5\r\n",
      "cryptography==3.4.6\r\n",
      "decorator==4.4.2\r\n",
      "defusedxml==0.7.1\r\n",
      "entrypoints==0.3\r\n",
      "grpcio==1.34.0\r\n",
      "grpcio-tools==1.34.0\r\n",
      "importlib-metadata==3.7.2\r\n",
      "ipykernel==5.5.0\r\n",
      "ipython==7.21.0\r\n",
      "ipython-genutils==0.2.0\r\n",
      "jedi==0.18.0\r\n",
      "Jinja2==2.11.3\r\n",
      "jsonschema==3.2.0\r\n",
      "jupyter-client==6.1.11\r\n",
      "jupyter-core==4.7.1\r\n",
      "jupyterlab-pygments==0.1.2\r\n",
      "MarkupSafe==1.1.1\r\n",
      "mistune==0.8.4\r\n",
      "nbclient==0.5.3\r\n",
      "nbconvert==6.0.7\r\n",
      "nbformat==5.1.2\r\n",
      "nest-asyncio==1.5.1\r\n",
      "notebook==6.2.0\r\n",
      "packaging==20.9\r\n",
      "pandocfilters==1.4.3\r\n",
      "paramiko==2.7.2\r\n",
      "parso==0.8.1\r\n",
      "pexpect==4.8.0\r\n",
      "pickleshare==0.7.5\r\n",
      "plumbum==1.7.0\r\n",
      "prometheus-client==0.9.0\r\n",
      "prompt-toolkit==3.0.16\r\n",
      "protobuf==3.14.0\r\n",
      "ptyprocess==0.7.0\r\n",
      "pycparser==2.20\r\n",
      "Pygments==2.8.1\r\n",
      "PyNaCl==1.4.0\r\n",
      "pyparsing==2.4.7\r\n",
      "pyrsistent==0.17.3\r\n",
      "pysftp==0.2.9\r\n",
      "python-dateutil==2.8.1\r\n",
      "pyzmq==22.0.3\r\n",
      "rpyc==5.0.1\r\n",
      "Send2Trash==1.5.0\r\n",
      "six==1.15.0\r\n",
      "terminado==0.9.2\r\n",
      "testpath==0.4.4\r\n",
      "tornado==6.1\r\n",
      "traitlets==5.0.5\r\n",
      "typing-extensions==3.7.4.3\r\n",
      "wcwidth==0.2.5\r\n",
      "webencodings==0.5.1\r\n",
      "zipp==3.4.1\r\n"
     ]
    }
   ],
   "source": [
    "!pip3 freeze"
   ]
  },
  {
   "cell_type": "code",
   "execution_count": null,
   "id": "occasional-installation",
   "metadata": {},
   "outputs": [],
   "source": [
    "import sys\n",
    "import pysftp\n",
    "from typing import List\n",
    "\n",
    "def upload_files_via_sftp(\n",
    "    host: str, \n",
    "    username: str, \n",
    "    password: str, \n",
    "    ethernet_work_dir: str,\n",
    "    files: List[str]\n",
    "):\n",
    "    if \"~/\" in ethernet_work_dir:\n",
    "        # Build home folder dir of user account runing ethernet\n",
    "        home_path = \"/home/{username}\".format(username=username)    \n",
    "        cd_path = \"{home_path}/{ethernet_work_dir}\".format(\n",
    "            home_path=home_path, \n",
    "            ethernet_work_dir=ethernet_work_dir\n",
    "        )\n",
    "    else:\n",
    "        cd_path = ethernet_work_dir\n",
    "    \n",
    "    # Change the path to the ethernet working directory\n",
    "    with pysftp.Connection(host, username=username, password=password) as sftp:\n",
    "        with sftp.cd(cd_path):\n",
    "            # Upload file to public/ on remote\n",
    "            for file in files:\n",
    "                print(\"Uploading: {file}\".format(file=file))\n",
    "                sftp.put(file)\n",
    "\n",
    "if __name__ == \"__main__\":\n",
    "    # First argument is the python file name at index 0\n",
    "    host = sys.argv[1]\n",
    "    username = sys.argv[2]\n",
    "    password = sys.argv[3]\n",
    "    ethernet_work_dir = sys.argv[4]\n",
    "    files_str = sys.argv[5]\n",
    "    \n",
    "    # Files in `files_str` must addressed with absolute path in the user's local filesystem\n",
    "    # Cleanup `files_str`\n",
    "    files = files_str.split(\",\")\n",
    "    \n",
    "    upload_files_via_sftp(host, username, password, ethernet_work_dir, files)\n",
    "    "
   ]
  },
  {
   "cell_type": "code",
   "execution_count": 14,
   "id": "arabic-windows",
   "metadata": {},
   "outputs": [
    {
     "data": {
      "text/plain": [
       "['hello', 'all', 'here']"
      ]
     },
     "execution_count": 14,
     "metadata": {},
     "output_type": "execute_result"
    }
   ],
   "source": [
    "some_txt = \"hello,all,here\"\n",
    "some_txt.split(\",\")"
   ]
  },
  {
   "cell_type": "code",
   "execution_count": 15,
   "id": "armed-thomas",
   "metadata": {},
   "outputs": [
    {
     "name": "stdout",
     "output_type": "stream",
     "text": [
      "<class 'list'>\n"
     ]
    }
   ],
   "source": [
    "print(type(some_txt.split(\",\")))"
   ]
  },
  {
   "cell_type": "code",
   "execution_count": null,
   "id": "ranking-particular",
   "metadata": {},
   "outputs": [],
   "source": []
  }
 ],
 "metadata": {
  "kernelspec": {
   "display_name": "Python 3",
   "language": "python",
   "name": "python3"
  },
  "language_info": {
   "codemirror_mode": {
    "name": "ipython",
    "version": 3
   },
   "file_extension": ".py",
   "mimetype": "text/x-python",
   "name": "python",
   "nbconvert_exporter": "python",
   "pygments_lexer": "ipython3",
   "version": "3.7.7"
  }
 },
 "nbformat": 4,
 "nbformat_minor": 5
}
