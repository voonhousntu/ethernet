{
 "cells": [
  {
   "cell_type": "markdown",
   "id": "excessive-living",
   "metadata": {},
   "source": [
    "## 1. Import Required Packages"
   ]
  },
  {
   "cell_type": "code",
   "execution_count": 1,
   "id": "heavy-cooperation",
   "metadata": {},
   "outputs": [],
   "source": [
    "# Import required packages\n",
    "from ethernet.client import Client"
   ]
  },
  {
   "cell_type": "markdown",
   "id": "intensive-orchestra",
   "metadata": {},
   "source": [
    "## 2. Connect to EtherNet Core"
   ]
  },
  {
   "cell_type": "code",
   "execution_count": 2,
   "id": "strong-vatican",
   "metadata": {},
   "outputs": [],
   "source": [
    "# Connect to Ethernet Core\n",
    "ec = Client(\n",
    "    core_host=\"172.21.148.207\",\n",
    "    core_grpc_port=9090,\n",
    "    core_http_port=8080\n",
    ")"
   ]
  },
  {
   "cell_type": "markdown",
   "id": "material-warner",
   "metadata": {},
   "source": [
    "## 3. List the Neo4j Databases"
   ]
  },
  {
   "cell_type": "code",
   "execution_count": 3,
   "id": "simplified-crossing",
   "metadata": {},
   "outputs": [
    {
     "data": {
      "text/plain": [
       "[]"
      ]
     },
     "execution_count": 3,
     "metadata": {},
     "output_type": "execute_result"
    }
   ],
   "source": [
    "# List the Neo4j databases available\n",
    "ec.get_databases()"
   ]
  },
  {
   "cell_type": "markdown",
   "id": "alone-green",
   "metadata": {},
   "source": [
    "## 4. Create Neo4j Graphs\n",
    "Current state of the `token_transfers.cache` file is as follows:\n",
    "\n",
    "```\n",
    "447_767,500_000\n",
    "500_001,1_999_997\n",
    "```\n",
    "\n",
    "This means that the block data for token_transfers happening between block `447_767` and `1_999_997` (inclusive) have already been loaded into the Hive database.\n",
    "\n",
    "\n",
    "## 4.1.  Create a graph with data some missing data\n",
    "\n",
    "Create a token_transfers graph for block range [447500, 607767]\n",
    "\n",
    "- Start block_number `447_500`\n",
    "- End block_number `607_767`\n",
    "\n",
    "Both start and end range are **inclusive**\n",
    "\n",
    "**Note:**\n",
    "\n",
    "This is to demonstrate the creation of a `token_transfers` graph where some of the required data exists in the Hive database."
   ]
  },
  {
   "cell_type": "code",
   "execution_count": 4,
   "id": "tribal-rochester",
   "metadata": {},
   "outputs": [
    {
     "data": {
      "text/plain": [
       "databaseName: \"token-transfers-447500-607767-20210507t0752z.db\""
      ]
     },
     "execution_count": 4,
     "metadata": {},
     "output_type": "execute_result"
    }
   ],
   "source": [
    "# Create a token_transfers graph for block range `[447_500, 607_767]`\n",
    "\n",
    "response_0 = ec.create_token_transfers_graph(447500, 607767)\n",
    "response_0"
   ]
  },
  {
   "cell_type": "markdown",
   "id": "contrary-abortion",
   "metadata": {},
   "source": [
    "## 4.2.  Create a graph with all data missing\n",
    "\n",
    "Create a token_transfers graph for block range `[2_000_000, 2_000_500]`\n",
    "\n",
    "- Start block_number `2_000_000`\n",
    "- End block_number `2_000_500`\n",
    "\n",
    "Both start and end range are **inclusive**\n",
    "\n",
    "**Note:**\n",
    "\n",
    "This is to demonstrate the creation of a `token_transfers` graph where all of the required data **DOES NOT** exist in the Hive database."
   ]
  },
  {
   "cell_type": "code",
   "execution_count": null,
   "id": "honest-bulgarian",
   "metadata": {},
   "outputs": [],
   "source": [
    "# Create a token_transfers graph with missing data\n",
    "response_1 = ec.create_token_transfers_graph(2000000, 2000500)\n",
    "response_1"
   ]
  },
  {
   "cell_type": "markdown",
   "id": "constant-sequence",
   "metadata": {},
   "source": [
    "## 5. List the Neo4j Databases Again\n",
    "\n",
    "This is to confirm that the database has indeed been created."
   ]
  },
  {
   "cell_type": "code",
   "execution_count": 5,
   "id": "enormous-outreach",
   "metadata": {},
   "outputs": [
    {
     "data": {
      "text/plain": [
       "['token-transfers-447500-607767-20210507t0752z.db']"
      ]
     },
     "execution_count": 5,
     "metadata": {},
     "output_type": "execute_result"
    }
   ],
   "source": [
    "# List the Neo4j databases available\n",
    "ec.get_databases()"
   ]
  },
  {
   "cell_type": "markdown",
   "id": "bulgarian-athens",
   "metadata": {},
   "source": [
    "## 6. Switch Neo4j Database\n",
    "\n",
    "Switch to the Neo4j database/graph that has just been created."
   ]
  },
  {
   "cell_type": "code",
   "execution_count": 6,
   "id": "dimensional-australian",
   "metadata": {},
   "outputs": [],
   "source": [
    "# Switch database\n",
    "ec.switch_database(\"token-transfers-447500-607767-20210507t0752z.db\")"
   ]
  },
  {
   "cell_type": "markdown",
   "id": "greek-numbers",
   "metadata": {},
   "source": [
    "## 7. Navigate to the Neo4j Web UI\n",
    "\n",
    "<a>http://172.21.148.207:7474/browser/</a>\n",
    "\n",
    "The credentials that we have deployed the Neo4j instance are:\n",
    "```\n",
    "username: neo4j\n",
    "password: test\n",
    "```"
   ]
  },
  {
   "cell_type": "markdown",
   "id": "peripheral-charm",
   "metadata": {},
   "source": [
    "## 8. Others (If we have time to go through)"
   ]
  },
  {
   "cell_type": "markdown",
   "id": "hazardous-boston",
   "metadata": {},
   "source": [
    "###  8.1. Get all DGD token transfers\n",
    "\n",
    "| | | |\n",
    "|-|-|-|\n",
    "| __Token__| DGD Token: DGD Token |\n",
    "| __Contract Address__ | 0xe0b7927c4af23765cb51314a0e0521a9645f0e2a |\n",
    "| __Etherscan.io details__ | <a>https://etherscan.io/address/0xe0b7927c4af23765cb51314a0e0521a9645f0e2a</a> |\n",
    "\n",
    "\n",
    "###  8.2. Get all TheDAO token transfers\n",
    "\n",
    "| | | |\n",
    "|-|-|-|\n",
    "| __Token__| TheDAO token |\n",
    "| __Contract Address__ | 0xbb9bc244d798123fde783fcc1c72d3bb8c189413 |\n",
    "| __Etherscan.io details__ | <a>https://etherscan.io/address/0xbb9bc244d798123fde783fcc1c72d3bb8c189413</a> |\n"
   ]
  },
  {
   "cell_type": "code",
   "execution_count": null,
   "id": "undefined-highlight",
   "metadata": {},
   "outputs": [],
   "source": [
    "# Create table with data that is \n",
    "\n",
    "# Create a transactions graph for block range [447700, 449000]\n",
    "# 447700 inclusive\n",
    "# 449000 inclusive\n",
    "\n",
    "response = ec.create_transactions_graph(447700, 449000)\n",
    "response"
   ]
  }
 ],
 "metadata": {
  "kernelspec": {
   "display_name": "Python 3",
   "language": "python",
   "name": "python3"
  },
  "language_info": {
   "codemirror_mode": {
    "name": "ipython",
    "version": 3
   },
   "file_extension": ".py",
   "mimetype": "text/x-python",
   "name": "python",
   "nbconvert_exporter": "python",
   "pygments_lexer": "ipython3",
   "version": "3.8.5"
  }
 },
 "nbformat": 4,
 "nbformat_minor": 5
}
