{
 "cells": [
  {
   "cell_type": "code",
   "execution_count": 34,
   "id": "direct-tunisia",
   "metadata": {},
   "outputs": [],
   "source": [
    "import rpyc"
   ]
  },
  {
   "cell_type": "code",
   "execution_count": 35,
   "id": "cultural-investigator",
   "metadata": {},
   "outputs": [
    {
     "name": "stdout",
     "output_type": "stream",
     "text": [
      "[b'run_cmd.py', b'venv']\n"
     ]
    }
   ],
   "source": [
    "conn = rpyc.classic.connect(\"172.21.148.207\")    # use default TCP port (18812)\n",
    "\n",
    "proc = conn.modules.subprocess.Popen(\"ls\", stdout = -1, stderr = -1)\n",
    "stdout, stderr = proc.communicate()\n",
    "print(stdout.split())\n",
    "\n",
    "remote_list = conn.builtin.range(7)\n",
    "\n"
   ]
  },
  {
   "cell_type": "code",
   "execution_count": 45,
   "id": "stupid-string",
   "metadata": {},
   "outputs": [
    {
     "ename": "SyntaxError",
     "evalue": "invalid syntax (<string>, line 1)\n\n========= Remote Traceback (1) =========\nTraceback (most recent call last):\n  File \"/home/VMadmin/Desktop/rpyc/venv/lib/python3.8/site-packages/rpyc/core/protocol.py\", line 324, in _dispatch_request\n    res = self._HANDLERS[handler](self, *args)\n  File \"/home/VMadmin/Desktop/rpyc/venv/lib/python3.8/site-packages/rpyc/core/protocol.py\", line 592, in _handle_call\n    return obj(*args, **dict(kwargs))\n  File \"/home/VMadmin/Desktop/rpyc/venv/lib/python3.8/site-packages/rpyc/core/service.py\", line 156, in eval\n    return eval(text, self.namespace)\n  File \"<string>\", line 1\n    os.popen(\"python3 run_cmd.py \"ifconfig\"\").read()\n                                  ^\nSyntaxError: invalid syntax\n",
     "output_type": "error",
     "traceback": [
      "Traceback \u001b[0;36m(most recent call last)\u001b[0m:\n",
      "  File \u001b[1;32m\"/Users/su/Desktop/venv/lib/python3.7/site-packages/IPython/core/interactiveshell.py\"\u001b[0m, line \u001b[1;32m3437\u001b[0m, in \u001b[1;35mrun_code\u001b[0m\n    exec(code_obj, self.user_global_ns, self.user_ns)\n",
      "  File \u001b[1;32m\"<ipython-input-45-40dba6608164>\"\u001b[0m, line \u001b[1;32m4\u001b[0m, in \u001b[1;35m<module>\u001b[0m\n    conn.eval('os.popen(\"'+ cmd + '\").read()')\n",
      "  File \u001b[1;32m\"/Users/su/Desktop/venv/lib/python3.7/site-packages/rpyc/core/netref.py\"\u001b[0m, line \u001b[1;32m240\u001b[0m, in \u001b[1;35m__call__\u001b[0m\n    return syncreq(_self, consts.HANDLE_CALL, args, kwargs)\n",
      "  File \u001b[1;32m\"/Users/su/Desktop/venv/lib/python3.7/site-packages/rpyc/core/netref.py\"\u001b[0m, line \u001b[1;32m63\u001b[0m, in \u001b[1;35msyncreq\u001b[0m\n    return conn.sync_request(handler, proxy, *args)\n",
      "  File \u001b[1;32m\"/Users/su/Desktop/venv/lib/python3.7/site-packages/rpyc/core/protocol.py\"\u001b[0m, line \u001b[1;32m473\u001b[0m, in \u001b[1;35msync_request\u001b[0m\n    return self.async_request(handler, *args, timeout=timeout).value\n",
      "\u001b[0;36m  File \u001b[0;32m\"/Users/su/Desktop/venv/lib/python3.7/site-packages/rpyc/core/async_.py\"\u001b[0;36m, line \u001b[0;32m102\u001b[0;36m, in \u001b[0;35mvalue\u001b[0;36m\u001b[0m\n\u001b[0;31m    raise self._obj\u001b[0m\n",
      "\u001b[0;36m  File \u001b[0;32m\"<string>\"\u001b[0;36m, line \u001b[0;32m1\u001b[0m\n\u001b[0;31m    os.popen(\"python3 run_cmd.py \"ifconfig\"\").read()\u001b[0m\n\u001b[0m                                  ^\u001b[0m\n\u001b[0;31mSyntaxError\u001b[0m\u001b[0;31m:\u001b[0m invalid syntax\n"
     ]
    }
   ],
   "source": [
    "conn.execute(\"import os\")\n",
    "# conn.eval('os.popen(\"ls -la\").read()')\n",
    "cmd = 'python3 run_cmd.py \"ifconfig\"'\n",
    "conn.eval('os.popen(\"'+ cmd + '\").read()')"
   ]
  },
  {
   "cell_type": "code",
   "execution_count": 61,
   "id": "violent-boards",
   "metadata": {},
   "outputs": [],
   "source": [
    "import sys\n",
    "import os\n",
    "\n",
    "def submit_command(host: str, port: str, command: str):\n",
    "    # Connect to rpyc\n",
    "    conn = rpyc.classic.connect(host=host, port=port)\n",
    "    \n",
    "    # Execute the shell command from python env\n",
    "    conn.execute(\"import os\")\n",
    "    std_out = conn.eval(\"os.popen(\\\"{}\\\").read()\".format(command))\n",
    "    \n",
    "    # Close the rpyc connection\n",
    "    conn.close()\n",
    "    return std_out\n",
    "\n",
    "if __name__ == \"__main__\":\n",
    "    # First argument is the python file name at index 0\n",
    "    host = sys.argv[1]\n",
    "    port = sys.argv[2]\n",
    "    cmd = sys.argv[3]\n",
    "    std_out = submit_command(host, port, cmd)\n",
    "    print(std_out)"
   ]
  },
  {
   "cell_type": "code",
   "execution_count": 72,
   "id": "soviet-polls",
   "metadata": {},
   "outputs": [
    {
     "name": "stdout",
     "output_type": "stream",
     "text": [
      "total 16\n",
      "drwxrwxr-x  3 VMadmin VMadmin 4096 Mar 10 12:02 .\n",
      "drwxr-xr-x 14 VMadmin VMadmin 4096 Mar 10 11:51 ..\n",
      "-rw-------  1 VMadmin VMadmin  166 Mar 10 12:03 nohup.out\n",
      "drwxrwxr-x  4 VMadmin VMadmin 4096 Mar 10 11:58 venv\n",
      "\n"
     ]
    }
   ],
   "source": [
    "host = \"172.21.148.207\"\n",
    "port = \"18812\"\n",
    "cmd = \"ls -la\"\n",
    "std_out = submit_command(host, port, cmd)\n",
    "print(std_out)"
   ]
  },
  {
   "cell_type": "code",
   "execution_count": null,
   "id": "designing-panic",
   "metadata": {},
   "outputs": [],
   "source": []
  }
 ],
 "metadata": {
  "kernelspec": {
   "display_name": "Python 3",
   "language": "python",
   "name": "python3"
  },
  "language_info": {
   "codemirror_mode": {
    "name": "ipython",
    "version": 3
   },
   "file_extension": ".py",
   "mimetype": "text/x-python",
   "name": "python",
   "nbconvert_exporter": "python",
   "pygments_lexer": "ipython3",
   "version": "3.7.7"
  }
 },
 "nbformat": 4,
 "nbformat_minor": 5
}
